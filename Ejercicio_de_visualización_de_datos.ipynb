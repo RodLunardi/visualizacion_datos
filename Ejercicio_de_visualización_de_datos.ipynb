{
  "nbformat": 4,
  "nbformat_minor": 0,
  "metadata": {
    "colab": {
      "provenance": [],
      "authorship_tag": "ABX9TyPgzXfj2se7nJemClrwTtZd",
      "include_colab_link": true
    },
    "kernelspec": {
      "name": "python3",
      "display_name": "Python 3"
    },
    "language_info": {
      "name": "python"
    }
  },
  "cells": [
    {
      "cell_type": "markdown",
      "metadata": {
        "id": "view-in-github",
        "colab_type": "text"
      },
      "source": [
        "<a href=\"https://colab.research.google.com/github/RodLunardi/visualizacion_datos/blob/main/Ejercicio_de_visualizaci%C3%B3n_de_datos.ipynb\" target=\"_parent\"><img src=\"https://colab.research.google.com/assets/colab-badge.svg\" alt=\"Open In Colab\"/></a>"
      ]
    },
    {
      "cell_type": "code",
      "execution_count": null,
      "metadata": {
        "colab": {
          "base_uri": "https://localhost:8080/"
        },
        "id": "lkOhh_dzrhvr",
        "outputId": "fb9ea086-38e2-4c38-b98f-6f81307fabca"
      },
      "outputs": [
        {
          "output_type": "stream",
          "name": "stdout",
          "text": [
            "Mounted at /content/drive\n"
          ]
        }
      ],
      "source": [
        "from google.colab import drive\n",
        "drive.mount('/content/drive')"
      ]
    },
    {
      "cell_type": "code",
      "source": [
        "import matplotlib.pyplot as plt\n",
        "import seaborn as sns\n",
        "import pandas as pd\n",
        "import numpy as np"
      ],
      "metadata": {
        "id": "MZnweUV0tYxA"
      },
      "execution_count": null,
      "outputs": []
    },
    {
      "cell_type": "code",
      "source": [
        "filename = \"/content/Viz5-July-2020-economic-empowerement(1).csv\"\n",
        "df = pd.read_csv(filename)\n",
        "df.head()"
      ],
      "metadata": {
        "colab": {
          "base_uri": "https://localhost:8080/",
          "height": 250
        },
        "id": "kCJZ_vJhtc6N",
        "outputId": "93351a7e-1eb5-41b1-c2e2-a05a4208125a"
      },
      "execution_count": null,
      "outputs": [
        {
          "output_type": "execute_result",
          "data": {
            "text/plain": [
              "        ID      Country Code      Region Income group  WBL Report Year  \\\n",
              "0  AFG1971  Afghanistan  AFG  South Asia   Low income             1971   \n",
              "1  AFG1971  Afghanistan  AFG  South Asia   Low income             1971   \n",
              "2  AFG1971  Afghanistan  AFG  South Asia   Low income             1971   \n",
              "3  AFG1971  Afghanistan  AFG  South Asia   Low income             1971   \n",
              "4  AFG1971  Afghanistan  AFG  South Asia   Low income             1971   \n",
              "\n",
              "  Question Category                                           Question  \\\n",
              "0            Assets  Do female and male surviving spouses have equa...   \n",
              "1            Assets  Do men and women have equal ownership rights t...   \n",
              "2            Assets  Do sons and daughters have equal rights to inh...   \n",
              "3            Assets  Does the law grant spouses equal administrativ...   \n",
              "4            Assets  Does the law provide for the valuation of nonm...   \n",
              "\n",
              "  Text Answer  Index Score  \n",
              "0          No          0.0  \n",
              "1         Yes         20.0  \n",
              "2          No          0.0  \n",
              "3         Yes         20.0  \n",
              "4          No          0.0  "
            ],
            "text/html": [
              "\n",
              "  <div id=\"df-fa92a5aa-c3e0-4c95-bf7b-0e7ad6de3ff3\">\n",
              "    <div class=\"colab-df-container\">\n",
              "      <div>\n",
              "<style scoped>\n",
              "    .dataframe tbody tr th:only-of-type {\n",
              "        vertical-align: middle;\n",
              "    }\n",
              "\n",
              "    .dataframe tbody tr th {\n",
              "        vertical-align: top;\n",
              "    }\n",
              "\n",
              "    .dataframe thead th {\n",
              "        text-align: right;\n",
              "    }\n",
              "</style>\n",
              "<table border=\"1\" class=\"dataframe\">\n",
              "  <thead>\n",
              "    <tr style=\"text-align: right;\">\n",
              "      <th></th>\n",
              "      <th>ID</th>\n",
              "      <th>Country</th>\n",
              "      <th>Code</th>\n",
              "      <th>Region</th>\n",
              "      <th>Income group</th>\n",
              "      <th>WBL Report Year</th>\n",
              "      <th>Question Category</th>\n",
              "      <th>Question</th>\n",
              "      <th>Text Answer</th>\n",
              "      <th>Index Score</th>\n",
              "    </tr>\n",
              "  </thead>\n",
              "  <tbody>\n",
              "    <tr>\n",
              "      <th>0</th>\n",
              "      <td>AFG1971</td>\n",
              "      <td>Afghanistan</td>\n",
              "      <td>AFG</td>\n",
              "      <td>South Asia</td>\n",
              "      <td>Low income</td>\n",
              "      <td>1971</td>\n",
              "      <td>Assets</td>\n",
              "      <td>Do female and male surviving spouses have equa...</td>\n",
              "      <td>No</td>\n",
              "      <td>0.0</td>\n",
              "    </tr>\n",
              "    <tr>\n",
              "      <th>1</th>\n",
              "      <td>AFG1971</td>\n",
              "      <td>Afghanistan</td>\n",
              "      <td>AFG</td>\n",
              "      <td>South Asia</td>\n",
              "      <td>Low income</td>\n",
              "      <td>1971</td>\n",
              "      <td>Assets</td>\n",
              "      <td>Do men and women have equal ownership rights t...</td>\n",
              "      <td>Yes</td>\n",
              "      <td>20.0</td>\n",
              "    </tr>\n",
              "    <tr>\n",
              "      <th>2</th>\n",
              "      <td>AFG1971</td>\n",
              "      <td>Afghanistan</td>\n",
              "      <td>AFG</td>\n",
              "      <td>South Asia</td>\n",
              "      <td>Low income</td>\n",
              "      <td>1971</td>\n",
              "      <td>Assets</td>\n",
              "      <td>Do sons and daughters have equal rights to inh...</td>\n",
              "      <td>No</td>\n",
              "      <td>0.0</td>\n",
              "    </tr>\n",
              "    <tr>\n",
              "      <th>3</th>\n",
              "      <td>AFG1971</td>\n",
              "      <td>Afghanistan</td>\n",
              "      <td>AFG</td>\n",
              "      <td>South Asia</td>\n",
              "      <td>Low income</td>\n",
              "      <td>1971</td>\n",
              "      <td>Assets</td>\n",
              "      <td>Does the law grant spouses equal administrativ...</td>\n",
              "      <td>Yes</td>\n",
              "      <td>20.0</td>\n",
              "    </tr>\n",
              "    <tr>\n",
              "      <th>4</th>\n",
              "      <td>AFG1971</td>\n",
              "      <td>Afghanistan</td>\n",
              "      <td>AFG</td>\n",
              "      <td>South Asia</td>\n",
              "      <td>Low income</td>\n",
              "      <td>1971</td>\n",
              "      <td>Assets</td>\n",
              "      <td>Does the law provide for the valuation of nonm...</td>\n",
              "      <td>No</td>\n",
              "      <td>0.0</td>\n",
              "    </tr>\n",
              "  </tbody>\n",
              "</table>\n",
              "</div>\n",
              "      <button class=\"colab-df-convert\" onclick=\"convertToInteractive('df-fa92a5aa-c3e0-4c95-bf7b-0e7ad6de3ff3')\"\n",
              "              title=\"Convert this dataframe to an interactive table.\"\n",
              "              style=\"display:none;\">\n",
              "        \n",
              "  <svg xmlns=\"http://www.w3.org/2000/svg\" height=\"24px\"viewBox=\"0 0 24 24\"\n",
              "       width=\"24px\">\n",
              "    <path d=\"M0 0h24v24H0V0z\" fill=\"none\"/>\n",
              "    <path d=\"M18.56 5.44l.94 2.06.94-2.06 2.06-.94-2.06-.94-.94-2.06-.94 2.06-2.06.94zm-11 1L8.5 8.5l.94-2.06 2.06-.94-2.06-.94L8.5 2.5l-.94 2.06-2.06.94zm10 10l.94 2.06.94-2.06 2.06-.94-2.06-.94-.94-2.06-.94 2.06-2.06.94z\"/><path d=\"M17.41 7.96l-1.37-1.37c-.4-.4-.92-.59-1.43-.59-.52 0-1.04.2-1.43.59L10.3 9.45l-7.72 7.72c-.78.78-.78 2.05 0 2.83L4 21.41c.39.39.9.59 1.41.59.51 0 1.02-.2 1.41-.59l7.78-7.78 2.81-2.81c.8-.78.8-2.07 0-2.86zM5.41 20L4 18.59l7.72-7.72 1.47 1.35L5.41 20z\"/>\n",
              "  </svg>\n",
              "      </button>\n",
              "      \n",
              "  <style>\n",
              "    .colab-df-container {\n",
              "      display:flex;\n",
              "      flex-wrap:wrap;\n",
              "      gap: 12px;\n",
              "    }\n",
              "\n",
              "    .colab-df-convert {\n",
              "      background-color: #E8F0FE;\n",
              "      border: none;\n",
              "      border-radius: 50%;\n",
              "      cursor: pointer;\n",
              "      display: none;\n",
              "      fill: #1967D2;\n",
              "      height: 32px;\n",
              "      padding: 0 0 0 0;\n",
              "      width: 32px;\n",
              "    }\n",
              "\n",
              "    .colab-df-convert:hover {\n",
              "      background-color: #E2EBFA;\n",
              "      box-shadow: 0px 1px 2px rgba(60, 64, 67, 0.3), 0px 1px 3px 1px rgba(60, 64, 67, 0.15);\n",
              "      fill: #174EA6;\n",
              "    }\n",
              "\n",
              "    [theme=dark] .colab-df-convert {\n",
              "      background-color: #3B4455;\n",
              "      fill: #D2E3FC;\n",
              "    }\n",
              "\n",
              "    [theme=dark] .colab-df-convert:hover {\n",
              "      background-color: #434B5C;\n",
              "      box-shadow: 0px 1px 3px 1px rgba(0, 0, 0, 0.15);\n",
              "      filter: drop-shadow(0px 1px 2px rgba(0, 0, 0, 0.3));\n",
              "      fill: #FFFFFF;\n",
              "    }\n",
              "  </style>\n",
              "\n",
              "      <script>\n",
              "        const buttonEl =\n",
              "          document.querySelector('#df-fa92a5aa-c3e0-4c95-bf7b-0e7ad6de3ff3 button.colab-df-convert');\n",
              "        buttonEl.style.display =\n",
              "          google.colab.kernel.accessAllowed ? 'block' : 'none';\n",
              "\n",
              "        async function convertToInteractive(key) {\n",
              "          const element = document.querySelector('#df-fa92a5aa-c3e0-4c95-bf7b-0e7ad6de3ff3');\n",
              "          const dataTable =\n",
              "            await google.colab.kernel.invokeFunction('convertToInteractive',\n",
              "                                                     [key], {});\n",
              "          if (!dataTable) return;\n",
              "\n",
              "          const docLinkHtml = 'Like what you see? Visit the ' +\n",
              "            '<a target=\"_blank\" href=https://colab.research.google.com/notebooks/data_table.ipynb>data table notebook</a>'\n",
              "            + ' to learn more about interactive tables.';\n",
              "          element.innerHTML = '';\n",
              "          dataTable['output_type'] = 'display_data';\n",
              "          await google.colab.output.renderOutput(dataTable, element);\n",
              "          const docLink = document.createElement('div');\n",
              "          docLink.innerHTML = docLinkHtml;\n",
              "          element.appendChild(docLink);\n",
              "        }\n",
              "      </script>\n",
              "    </div>\n",
              "  </div>\n",
              "  "
            ]
          },
          "metadata": {},
          "execution_count": 3
        }
      ]
    },
    {
      "cell_type": "code",
      "source": [
        "df.info()"
      ],
      "metadata": {
        "colab": {
          "base_uri": "https://localhost:8080/"
        },
        "id": "ZLyKpROEvTIn",
        "outputId": "72538e5a-d9dd-41fa-faad-d5fe0337c430"
      },
      "execution_count": null,
      "outputs": [
        {
          "output_type": "stream",
          "name": "stdout",
          "text": [
            "<class 'pandas.core.frame.DataFrame'>\n",
            "RangeIndex: 65147 entries, 0 to 65146\n",
            "Data columns (total 10 columns):\n",
            " #   Column             Non-Null Count  Dtype  \n",
            "---  ------             --------------  -----  \n",
            " 0   ID                 65147 non-null  object \n",
            " 1   Country            65147 non-null  object \n",
            " 2   Code               65147 non-null  object \n",
            " 3   Region             65147 non-null  object \n",
            " 4   Income group       65147 non-null  object \n",
            " 5   WBL Report Year    65147 non-null  int64  \n",
            " 6   Question Category  65147 non-null  object \n",
            " 7   Question           65146 non-null  object \n",
            " 8   Text Answer        65146 non-null  object \n",
            " 9   Index Score        65146 non-null  float64\n",
            "dtypes: float64(1), int64(1), object(8)\n",
            "memory usage: 5.0+ MB\n"
          ]
        }
      ]
    },
    {
      "cell_type": "code",
      "source": [
        "df.duplicated().sum()"
      ],
      "metadata": {
        "colab": {
          "base_uri": "https://localhost:8080/"
        },
        "id": "DtZucnU4vllp",
        "outputId": "4dbd00ac-4018-4ecf-9321-e896b5219a57"
      },
      "execution_count": null,
      "outputs": [
        {
          "output_type": "execute_result",
          "data": {
            "text/plain": [
              "0"
            ]
          },
          "metadata": {},
          "execution_count": 5
        }
      ]
    },
    {
      "cell_type": "code",
      "source": [
        "data_null = df.loc[df['Code'].isna()==True]\n",
        "data_null"
      ],
      "metadata": {
        "colab": {
          "base_uri": "https://localhost:8080/",
          "height": 49
        },
        "id": "aEfdebvLxfnz",
        "outputId": "213275ab-087a-484f-8e39-0dbbb1ea4514"
      },
      "execution_count": null,
      "outputs": [
        {
          "output_type": "execute_result",
          "data": {
            "text/plain": [
              "Empty DataFrame\n",
              "Columns: [ID, Country, Code, Region, Income group, WBL Report Year, Question Category, Question, Text Answer, Index Score]\n",
              "Index: []"
            ],
            "text/html": [
              "\n",
              "  <div id=\"df-4d7d8491-41d3-412f-85d9-38e3a21a70c1\">\n",
              "    <div class=\"colab-df-container\">\n",
              "      <div>\n",
              "<style scoped>\n",
              "    .dataframe tbody tr th:only-of-type {\n",
              "        vertical-align: middle;\n",
              "    }\n",
              "\n",
              "    .dataframe tbody tr th {\n",
              "        vertical-align: top;\n",
              "    }\n",
              "\n",
              "    .dataframe thead th {\n",
              "        text-align: right;\n",
              "    }\n",
              "</style>\n",
              "<table border=\"1\" class=\"dataframe\">\n",
              "  <thead>\n",
              "    <tr style=\"text-align: right;\">\n",
              "      <th></th>\n",
              "      <th>ID</th>\n",
              "      <th>Country</th>\n",
              "      <th>Code</th>\n",
              "      <th>Region</th>\n",
              "      <th>Income group</th>\n",
              "      <th>WBL Report Year</th>\n",
              "      <th>Question Category</th>\n",
              "      <th>Question</th>\n",
              "      <th>Text Answer</th>\n",
              "      <th>Index Score</th>\n",
              "    </tr>\n",
              "  </thead>\n",
              "  <tbody>\n",
              "  </tbody>\n",
              "</table>\n",
              "</div>\n",
              "      <button class=\"colab-df-convert\" onclick=\"convertToInteractive('df-4d7d8491-41d3-412f-85d9-38e3a21a70c1')\"\n",
              "              title=\"Convert this dataframe to an interactive table.\"\n",
              "              style=\"display:none;\">\n",
              "        \n",
              "  <svg xmlns=\"http://www.w3.org/2000/svg\" height=\"24px\"viewBox=\"0 0 24 24\"\n",
              "       width=\"24px\">\n",
              "    <path d=\"M0 0h24v24H0V0z\" fill=\"none\"/>\n",
              "    <path d=\"M18.56 5.44l.94 2.06.94-2.06 2.06-.94-2.06-.94-.94-2.06-.94 2.06-2.06.94zm-11 1L8.5 8.5l.94-2.06 2.06-.94-2.06-.94L8.5 2.5l-.94 2.06-2.06.94zm10 10l.94 2.06.94-2.06 2.06-.94-2.06-.94-.94-2.06-.94 2.06-2.06.94z\"/><path d=\"M17.41 7.96l-1.37-1.37c-.4-.4-.92-.59-1.43-.59-.52 0-1.04.2-1.43.59L10.3 9.45l-7.72 7.72c-.78.78-.78 2.05 0 2.83L4 21.41c.39.39.9.59 1.41.59.51 0 1.02-.2 1.41-.59l7.78-7.78 2.81-2.81c.8-.78.8-2.07 0-2.86zM5.41 20L4 18.59l7.72-7.72 1.47 1.35L5.41 20z\"/>\n",
              "  </svg>\n",
              "      </button>\n",
              "      \n",
              "  <style>\n",
              "    .colab-df-container {\n",
              "      display:flex;\n",
              "      flex-wrap:wrap;\n",
              "      gap: 12px;\n",
              "    }\n",
              "\n",
              "    .colab-df-convert {\n",
              "      background-color: #E8F0FE;\n",
              "      border: none;\n",
              "      border-radius: 50%;\n",
              "      cursor: pointer;\n",
              "      display: none;\n",
              "      fill: #1967D2;\n",
              "      height: 32px;\n",
              "      padding: 0 0 0 0;\n",
              "      width: 32px;\n",
              "    }\n",
              "\n",
              "    .colab-df-convert:hover {\n",
              "      background-color: #E2EBFA;\n",
              "      box-shadow: 0px 1px 2px rgba(60, 64, 67, 0.3), 0px 1px 3px 1px rgba(60, 64, 67, 0.15);\n",
              "      fill: #174EA6;\n",
              "    }\n",
              "\n",
              "    [theme=dark] .colab-df-convert {\n",
              "      background-color: #3B4455;\n",
              "      fill: #D2E3FC;\n",
              "    }\n",
              "\n",
              "    [theme=dark] .colab-df-convert:hover {\n",
              "      background-color: #434B5C;\n",
              "      box-shadow: 0px 1px 3px 1px rgba(0, 0, 0, 0.15);\n",
              "      filter: drop-shadow(0px 1px 2px rgba(0, 0, 0, 0.3));\n",
              "      fill: #FFFFFF;\n",
              "    }\n",
              "  </style>\n",
              "\n",
              "      <script>\n",
              "        const buttonEl =\n",
              "          document.querySelector('#df-4d7d8491-41d3-412f-85d9-38e3a21a70c1 button.colab-df-convert');\n",
              "        buttonEl.style.display =\n",
              "          google.colab.kernel.accessAllowed ? 'block' : 'none';\n",
              "\n",
              "        async function convertToInteractive(key) {\n",
              "          const element = document.querySelector('#df-4d7d8491-41d3-412f-85d9-38e3a21a70c1');\n",
              "          const dataTable =\n",
              "            await google.colab.kernel.invokeFunction('convertToInteractive',\n",
              "                                                     [key], {});\n",
              "          if (!dataTable) return;\n",
              "\n",
              "          const docLinkHtml = 'Like what you see? Visit the ' +\n",
              "            '<a target=\"_blank\" href=https://colab.research.google.com/notebooks/data_table.ipynb>data table notebook</a>'\n",
              "            + ' to learn more about interactive tables.';\n",
              "          element.innerHTML = '';\n",
              "          dataTable['output_type'] = 'display_data';\n",
              "          await google.colab.output.renderOutput(dataTable, element);\n",
              "          const docLink = document.createElement('div');\n",
              "          docLink.innerHTML = docLinkHtml;\n",
              "          element.appendChild(docLink);\n",
              "        }\n",
              "      </script>\n",
              "    </div>\n",
              "  </div>\n",
              "  "
            ]
          },
          "metadata": {},
          "execution_count": 6
        }
      ]
    },
    {
      "cell_type": "code",
      "source": [
        "#Despues de verificar que habia una fila sin datos, la eliminé por se tratar de solo una fila\n",
        "df.dropna(inplace=True)\n",
        "df.info()"
      ],
      "metadata": {
        "colab": {
          "base_uri": "https://localhost:8080/"
        },
        "id": "jBJN3VA0zJ1C",
        "outputId": "99bf4f20-8868-422b-8033-6f481cdd4adc"
      },
      "execution_count": null,
      "outputs": [
        {
          "output_type": "stream",
          "name": "stdout",
          "text": [
            "<class 'pandas.core.frame.DataFrame'>\n",
            "Int64Index: 65146 entries, 0 to 65145\n",
            "Data columns (total 10 columns):\n",
            " #   Column             Non-Null Count  Dtype  \n",
            "---  ------             --------------  -----  \n",
            " 0   ID                 65146 non-null  object \n",
            " 1   Country            65146 non-null  object \n",
            " 2   Code               65146 non-null  object \n",
            " 3   Region             65146 non-null  object \n",
            " 4   Income group       65146 non-null  object \n",
            " 5   WBL Report Year    65146 non-null  int64  \n",
            " 6   Question Category  65146 non-null  object \n",
            " 7   Question           65146 non-null  object \n",
            " 8   Text Answer        65146 non-null  object \n",
            " 9   Index Score        65146 non-null  float64\n",
            "dtypes: float64(1), int64(1), object(8)\n",
            "memory usage: 5.5+ MB\n"
          ]
        }
      ]
    },
    {
      "cell_type": "code",
      "source": [
        "df['WBL Report Year'] = df['WBL Report Year'].astype(int)"
      ],
      "metadata": {
        "id": "lX8ZEBFr1F6c"
      },
      "execution_count": null,
      "outputs": []
    },
    {
      "cell_type": "code",
      "source": [
        "df.info()"
      ],
      "metadata": {
        "colab": {
          "base_uri": "https://localhost:8080/"
        },
        "id": "1fCxoz391bgH",
        "outputId": "26f3fbee-7bac-456e-9a8d-63a684df248b"
      },
      "execution_count": null,
      "outputs": [
        {
          "output_type": "stream",
          "name": "stdout",
          "text": [
            "<class 'pandas.core.frame.DataFrame'>\n",
            "Int64Index: 65146 entries, 0 to 65145\n",
            "Data columns (total 10 columns):\n",
            " #   Column             Non-Null Count  Dtype  \n",
            "---  ------             --------------  -----  \n",
            " 0   ID                 65146 non-null  object \n",
            " 1   Country            65146 non-null  object \n",
            " 2   Code               65146 non-null  object \n",
            " 3   Region             65146 non-null  object \n",
            " 4   Income group       65146 non-null  object \n",
            " 5   WBL Report Year    65146 non-null  int64  \n",
            " 6   Question Category  65146 non-null  object \n",
            " 7   Question           65146 non-null  object \n",
            " 8   Text Answer        65146 non-null  object \n",
            " 9   Index Score        65146 non-null  float64\n",
            "dtypes: float64(1), int64(1), object(8)\n",
            "memory usage: 5.5+ MB\n"
          ]
        }
      ]
    },
    {
      "cell_type": "code",
      "source": [
        "text_answer_filter = df.groupby(['Question'])['Text Answer'].value_counts()\n",
        "text_answer_filter"
      ],
      "metadata": {
        "colab": {
          "base_uri": "https://localhost:8080/"
        },
        "id": "-Y3z552Cu13K",
        "outputId": "ba0670ff-0c93-4735-c352-112a3945ef8e"
      },
      "execution_count": null,
      "outputs": [
        {
          "output_type": "execute_result",
          "data": {
            "text/plain": [
              "Question                                                                              Text Answer\n",
              "Are periods of absence from work due to childcare accounted for in pension benefits?  No             1106\n",
              "                                                                                      Yes             755\n",
              "Are the ages at which men and women can retire with full pension benefits equal?      No             1254\n",
              "                                                                                      Yes             607\n",
              "Are the ages at which men and women can retire with partial pension benefits equal?   Yes            1155\n",
              "                                                                                                     ... \n",
              "Is there no legal provision that requires a married woman to obey her husband?        No              242\n",
              "Is there paid leave available to fathers?                                             No             1295\n",
              "                                                                                      Yes             566\n",
              "Is there paid parental leave?                                                         No             1704\n",
              "                                                                                      Yes             157\n",
              "Name: Text Answer, Length: 69, dtype: int64"
            ]
          },
          "metadata": {},
          "execution_count": 10
        }
      ]
    },
    {
      "cell_type": "code",
      "source": [
        "Score_mean_filter = df.groupby(['Country','Income group'])['Index Score'].mean().sort_values(ascending = False)\n",
        "Score_mean_filter"
      ],
      "metadata": {
        "colab": {
          "base_uri": "https://localhost:8080/"
        },
        "id": "NA5bi6ykuXcJ",
        "outputId": "51a2050f-5946-4243-fb3b-a06474c471a0"
      },
      "execution_count": null,
      "outputs": [
        {
          "output_type": "execute_result",
          "data": {
            "text/plain": [
              "Country                   Income group       \n",
              "Canada                    High income            20.491429\n",
              "Australia                 High income            17.248571\n",
              "Bulgaria                  Upper middle income    16.940000\n",
              "Austria                   High income            16.940000\n",
              "Albania                   Upper middle income    16.305714\n",
              "Belgium                   High income            16.248571\n",
              "Bahamas, The              High income            15.734286\n",
              "Barbados                  High income            15.588571\n",
              "Belize                    Upper middle income    15.322857\n",
              "Bosnia and Herzegovina    Upper middle income    15.225714\n",
              "Azerbaijan                Upper middle income    15.208571\n",
              "Belarus                   Upper middle income    14.908571\n",
              "Colombia                  Upper middle income    14.685714\n",
              "Antigua and Barbuda       High income            14.640000\n",
              "Cabo Verde                Lower middle income    14.585714\n",
              "China                     Upper middle income    14.454286\n",
              "Armenia                   Upper middle income    14.451429\n",
              "Burkina Faso              Low income             14.405714\n",
              "Cambodia                  Lower middle income    13.771429\n",
              "Bolivia                   Lower middle income    13.560000\n",
              "Bhutan                    Lower middle income    13.385714\n",
              "Burundi                   Low income             13.331429\n",
              "Argentina                 Upper middle income    12.885714\n",
              "Brazil                    Upper middle income    12.602857\n",
              "Chile                     High income            12.520000\n",
              "Central African Republic  Low income             12.308571\n",
              "Chad                      Low income             11.840000\n",
              "Angola                    Lower middle income    11.705714\n",
              "Benin                     Low income             11.420000\n",
              "Cameroon                  Lower middle income    11.394286\n",
              "Brunei Darussalam         High income            10.114286\n",
              "Comoros                   Lower middle income     9.960000\n",
              "Algeria                   Upper middle income     9.842857\n",
              "Bangladesh                Lower middle income     9.265714\n",
              "Botswana                  Upper middle income     8.997143\n",
              "Bahrain                   High income             6.514286\n",
              "Afghanistan               Low income              6.288571\n",
              "Congo, Dem. Rep.          Low income              5.239899\n",
              "Name: Index Score, dtype: float64"
            ]
          },
          "metadata": {},
          "execution_count": 11
        }
      ]
    },
    {
      "cell_type": "code",
      "source": [
        "report_year_filter = df.groupby(['WBL Report Year'])['Index Score'].mean()\n",
        "report_year_filter"
      ],
      "metadata": {
        "id": "yEN4h-Q83JW8"
      },
      "execution_count": null,
      "outputs": []
    },
    {
      "cell_type": "code",
      "source": [
        "report_year_filter=report_year_filter.reset_index()\n",
        "report_year_filter.describe()"
      ],
      "metadata": {
        "colab": {
          "base_uri": "https://localhost:8080/",
          "height": 300
        },
        "id": "w5wX4oL2igSB",
        "outputId": "4cece651-6463-4895-a0b2-94bb391464f8"
      },
      "execution_count": null,
      "outputs": [
        {
          "output_type": "execute_result",
          "data": {
            "text/plain": [
              "        level_0     index  WBL Report Year  Index Score\n",
              "count  50.00000  50.00000         50.00000    50.000000\n",
              "mean   24.50000  24.50000       1995.50000    13.348422\n",
              "std    14.57738  14.57738         14.57738     2.267978\n",
              "min     0.00000   0.00000       1971.00000     9.973684\n",
              "25%    12.25000  12.25000       1983.25000    11.535714\n",
              "50%    24.50000  24.50000       1995.50000    13.048263\n",
              "75%    36.75000  36.75000       2007.75000    15.514479\n",
              "max    49.00000  49.00000       2020.00000    17.104247"
            ],
            "text/html": [
              "\n",
              "  <div id=\"df-a3c7af55-d2a1-446c-8250-03f39280115f\">\n",
              "    <div class=\"colab-df-container\">\n",
              "      <div>\n",
              "<style scoped>\n",
              "    .dataframe tbody tr th:only-of-type {\n",
              "        vertical-align: middle;\n",
              "    }\n",
              "\n",
              "    .dataframe tbody tr th {\n",
              "        vertical-align: top;\n",
              "    }\n",
              "\n",
              "    .dataframe thead th {\n",
              "        text-align: right;\n",
              "    }\n",
              "</style>\n",
              "<table border=\"1\" class=\"dataframe\">\n",
              "  <thead>\n",
              "    <tr style=\"text-align: right;\">\n",
              "      <th></th>\n",
              "      <th>level_0</th>\n",
              "      <th>index</th>\n",
              "      <th>WBL Report Year</th>\n",
              "      <th>Index Score</th>\n",
              "    </tr>\n",
              "  </thead>\n",
              "  <tbody>\n",
              "    <tr>\n",
              "      <th>count</th>\n",
              "      <td>50.00000</td>\n",
              "      <td>50.00000</td>\n",
              "      <td>50.00000</td>\n",
              "      <td>50.000000</td>\n",
              "    </tr>\n",
              "    <tr>\n",
              "      <th>mean</th>\n",
              "      <td>24.50000</td>\n",
              "      <td>24.50000</td>\n",
              "      <td>1995.50000</td>\n",
              "      <td>13.348422</td>\n",
              "    </tr>\n",
              "    <tr>\n",
              "      <th>std</th>\n",
              "      <td>14.57738</td>\n",
              "      <td>14.57738</td>\n",
              "      <td>14.57738</td>\n",
              "      <td>2.267978</td>\n",
              "    </tr>\n",
              "    <tr>\n",
              "      <th>min</th>\n",
              "      <td>0.00000</td>\n",
              "      <td>0.00000</td>\n",
              "      <td>1971.00000</td>\n",
              "      <td>9.973684</td>\n",
              "    </tr>\n",
              "    <tr>\n",
              "      <th>25%</th>\n",
              "      <td>12.25000</td>\n",
              "      <td>12.25000</td>\n",
              "      <td>1983.25000</td>\n",
              "      <td>11.535714</td>\n",
              "    </tr>\n",
              "    <tr>\n",
              "      <th>50%</th>\n",
              "      <td>24.50000</td>\n",
              "      <td>24.50000</td>\n",
              "      <td>1995.50000</td>\n",
              "      <td>13.048263</td>\n",
              "    </tr>\n",
              "    <tr>\n",
              "      <th>75%</th>\n",
              "      <td>36.75000</td>\n",
              "      <td>36.75000</td>\n",
              "      <td>2007.75000</td>\n",
              "      <td>15.514479</td>\n",
              "    </tr>\n",
              "    <tr>\n",
              "      <th>max</th>\n",
              "      <td>49.00000</td>\n",
              "      <td>49.00000</td>\n",
              "      <td>2020.00000</td>\n",
              "      <td>17.104247</td>\n",
              "    </tr>\n",
              "  </tbody>\n",
              "</table>\n",
              "</div>\n",
              "      <button class=\"colab-df-convert\" onclick=\"convertToInteractive('df-a3c7af55-d2a1-446c-8250-03f39280115f')\"\n",
              "              title=\"Convert this dataframe to an interactive table.\"\n",
              "              style=\"display:none;\">\n",
              "        \n",
              "  <svg xmlns=\"http://www.w3.org/2000/svg\" height=\"24px\"viewBox=\"0 0 24 24\"\n",
              "       width=\"24px\">\n",
              "    <path d=\"M0 0h24v24H0V0z\" fill=\"none\"/>\n",
              "    <path d=\"M18.56 5.44l.94 2.06.94-2.06 2.06-.94-2.06-.94-.94-2.06-.94 2.06-2.06.94zm-11 1L8.5 8.5l.94-2.06 2.06-.94-2.06-.94L8.5 2.5l-.94 2.06-2.06.94zm10 10l.94 2.06.94-2.06 2.06-.94-2.06-.94-.94-2.06-.94 2.06-2.06.94z\"/><path d=\"M17.41 7.96l-1.37-1.37c-.4-.4-.92-.59-1.43-.59-.52 0-1.04.2-1.43.59L10.3 9.45l-7.72 7.72c-.78.78-.78 2.05 0 2.83L4 21.41c.39.39.9.59 1.41.59.51 0 1.02-.2 1.41-.59l7.78-7.78 2.81-2.81c.8-.78.8-2.07 0-2.86zM5.41 20L4 18.59l7.72-7.72 1.47 1.35L5.41 20z\"/>\n",
              "  </svg>\n",
              "      </button>\n",
              "      \n",
              "  <style>\n",
              "    .colab-df-container {\n",
              "      display:flex;\n",
              "      flex-wrap:wrap;\n",
              "      gap: 12px;\n",
              "    }\n",
              "\n",
              "    .colab-df-convert {\n",
              "      background-color: #E8F0FE;\n",
              "      border: none;\n",
              "      border-radius: 50%;\n",
              "      cursor: pointer;\n",
              "      display: none;\n",
              "      fill: #1967D2;\n",
              "      height: 32px;\n",
              "      padding: 0 0 0 0;\n",
              "      width: 32px;\n",
              "    }\n",
              "\n",
              "    .colab-df-convert:hover {\n",
              "      background-color: #E2EBFA;\n",
              "      box-shadow: 0px 1px 2px rgba(60, 64, 67, 0.3), 0px 1px 3px 1px rgba(60, 64, 67, 0.15);\n",
              "      fill: #174EA6;\n",
              "    }\n",
              "\n",
              "    [theme=dark] .colab-df-convert {\n",
              "      background-color: #3B4455;\n",
              "      fill: #D2E3FC;\n",
              "    }\n",
              "\n",
              "    [theme=dark] .colab-df-convert:hover {\n",
              "      background-color: #434B5C;\n",
              "      box-shadow: 0px 1px 3px 1px rgba(0, 0, 0, 0.15);\n",
              "      filter: drop-shadow(0px 1px 2px rgba(0, 0, 0, 0.3));\n",
              "      fill: #FFFFFF;\n",
              "    }\n",
              "  </style>\n",
              "\n",
              "      <script>\n",
              "        const buttonEl =\n",
              "          document.querySelector('#df-a3c7af55-d2a1-446c-8250-03f39280115f button.colab-df-convert');\n",
              "        buttonEl.style.display =\n",
              "          google.colab.kernel.accessAllowed ? 'block' : 'none';\n",
              "\n",
              "        async function convertToInteractive(key) {\n",
              "          const element = document.querySelector('#df-a3c7af55-d2a1-446c-8250-03f39280115f');\n",
              "          const dataTable =\n",
              "            await google.colab.kernel.invokeFunction('convertToInteractive',\n",
              "                                                     [key], {});\n",
              "          if (!dataTable) return;\n",
              "\n",
              "          const docLinkHtml = 'Like what you see? Visit the ' +\n",
              "            '<a target=\"_blank\" href=https://colab.research.google.com/notebooks/data_table.ipynb>data table notebook</a>'\n",
              "            + ' to learn more about interactive tables.';\n",
              "          element.innerHTML = '';\n",
              "          dataTable['output_type'] = 'display_data';\n",
              "          await google.colab.output.renderOutput(dataTable, element);\n",
              "          const docLink = document.createElement('div');\n",
              "          docLink.innerHTML = docLinkHtml;\n",
              "          element.appendChild(docLink);\n",
              "        }\n",
              "      </script>\n",
              "    </div>\n",
              "  </div>\n",
              "  "
            ]
          },
          "metadata": {},
          "execution_count": 50
        }
      ]
    },
    {
      "cell_type": "code",
      "source": [
        "# Can convert to NumPy array or list\n",
        "uniqueYears = np.array(report_year_filter.index)\n",
        "uniqueYears\n",
        "meanScore = np.array(report_year_filter.values)\n",
        "meanScore\n",
        "fig,ax=plt.subplots()\n",
        "plt.style.available\n",
        "plt.style.use('ggplot')\n",
        "ax.plot(report_year_filter['WBL Report Year'], report_year_filter['Index Score'],c = 'b', marker = '.', markersize = 8)\n",
        "plt.xlim(right=2022)\n",
        "xticks=ax.get_xticks()\n",
        "xtickslabels=['{:.0f}'.format(x) for x in xticks]#formato decimales de 1000 -> '{:.0f}'.format(x)\n",
        "ax.set_xticklabels(xtickslabels)\n",
        "plt.xlabel('WBL Report Year', fontsize = 16)\n",
        "plt.ylabel('Index Score', fontsize = 16)\n",
        "plt.title('Index Score Over the Years', fontsize = 16)\n",
        "plt.grid(c = 'g', alpha = .9,linestyle = '-')\n",
        "plt.show()"
      ],
      "metadata": {
        "colab": {
          "base_uri": "https://localhost:8080/",
          "height": 514
        },
        "id": "SgpS52enuK-I",
        "outputId": "361e143e-dcd3-4332-8ba9-434d2cd12036"
      },
      "execution_count": null,
      "outputs": [
        {
          "output_type": "stream",
          "name": "stderr",
          "text": [
            "<ipython-input-60-78430bdaf730>:16: UserWarning: FixedFormatter should only be used together with FixedLocator\n",
            "  ax.set_xticklabels(xtickslabels)\n"
          ]
        },
        {
          "output_type": "display_data",
          "data": {
            "text/plain": [
              "<Figure size 640x480 with 1 Axes>"
            ],
            "image/png": "[encoded data removed]"
          },
          "metadata": {}
        }
      ]
    },
    {
      "cell_type": "code",
      "source": [
        "income_filter = df.groupby(['Income group'])['Index Score'].mean().sort_values(ascending = False)\n",
        "income_filter"
      ],
      "metadata": {
        "colab": {
          "base_uri": "https://localhost:8080/"
        },
        "id": "V6vg2MBt2r4V",
        "outputId": "fbb95d84-5a49-4176-e03e-c051cc939fed"
      },
      "execution_count": null,
      "outputs": [
        {
          "output_type": "execute_result",
          "data": {
            "text/plain": [
              "Income group\n",
              "High income            14.604000\n",
              "Upper middle income    13.987033\n",
              "Lower middle income    12.203571\n",
              "Low income             11.367933\n",
              "Name: Index Score, dtype: float64"
            ]
          },
          "metadata": {},
          "execution_count": 14
        }
      ]
    },
    {
      "cell_type": "code",
      "source": [
        "fig, ax = plt.subplots(figsize=(10, 6))\n",
        "plt.style.use('tableau-colorblind10')\n",
        "plt.bar(income_filter.index, income_filter.values, color='#FF8C00', edgecolor='k', linewidth=1.5, alpha=0.8)\n",
        "for i, v in enumerate(income_filter.values):\n",
        "    plt.text(i, v + 1, str(v), ha='center') # codigo para colocar montos correspondiente a las barras\n",
        "ax.set_title('Mean Index Score Over the Income Group')\n",
        "ax.set_xlabel('Income Group')\n",
        "ax.set_ylabel('Mean Index Score')\n",
        "plt.show()"
      ],
      "metadata": {
        "colab": {
          "base_uri": "https://localhost:8080/",
          "height": 472
        },
        "id": "EX8WcQ9nBxCd",
        "outputId": "9ac6f654-7f42-4726-ea8b-a48c9b9f130b"
      },
      "execution_count": null,
      "outputs": [
        {
          "output_type": "display_data",
          "data": {
            "text/plain": [
              "<Figure size 800x480 with 1 Axes>"
            ],
            "image/png": "[encoded data removed]"
          },
          "metadata": {}
        }
      ]
    },
    {
      "cell_type": "code",
      "source": [
        "region_filter = df.groupby(['Region'])['Index Score'].mean().sort_values(ascending = False)\n",
        "region_filter"
      ],
      "metadata": {
        "colab": {
          "base_uri": "https://localhost:8080/"
        },
        "id": "8wInrewmT7qC",
        "outputId": "6b1a014e-c034-478b-a5be-9d381f4cccb4"
      },
      "execution_count": null,
      "outputs": [
        {
          "output_type": "execute_result",
          "data": {
            "text/plain": [
              "Region\n",
              "High income: OECD             16.689714\n",
              "Europe & Central Asia         15.506667\n",
              "Latin America & Caribbean     14.377500\n",
              "East Asia & Pacific           12.780000\n",
              "Sub-Saharan Africa            11.845384\n",
              "South Asia                     9.646667\n",
              "Middle East & North Africa     8.178571\n",
              "Name: Index Score, dtype: float64"
            ]
          },
          "metadata": {},
          "execution_count": 74
        }
      ]
    },
    {
      "cell_type": "code",
      "source": [
        "region_filter = df.groupby(['Region'])['Index Score'].mean().sort_values(ascending = False)\n",
        "plt.style.use('classic')\n",
        "colors = ['#00FFFF', '#FF00FF', '#FFFF00', '#00FF00', '#FFA500', '#FF4500','#A52A2A']\n",
        "plt.pie(region_filter.values, labels=region_filter.keys(), colors=colors, wedgeprops=dict(edgecolor='k', linewidth=1.5, alpha=0.9),autopct='%1.1f%%')\n",
        "plt.show()"
      ],
      "metadata": {
        "colab": {
          "base_uri": "https://localhost:8080/",
          "height": 417
        },
        "id": "ZgeLvbzbPs8k",
        "outputId": "4770e3b2-0fec-4906-a333-f731ffa7ccb3"
      },
      "execution_count": null,
      "outputs": [
        {
          "output_type": "display_data",
          "data": {
            "text/plain": [
              "<Figure size 640x480 with 1 Axes>"
            ],
            "image/png": "[encoded data removed]"
          },
          "metadata": {}
        }
      ]
    }
  ]
}